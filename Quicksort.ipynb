{
 "cells": [
  {
   "cell_type": "code",
   "execution_count": 51,
   "metadata": {},
   "outputs": [],
   "source": [
    "import time\n",
    "import random\n",
    "\n",
    "# Set seed.\n",
    "random.seed(a=100)\n",
    "\n",
    "# Create our default list.\n",
    "short_list = list(random.sample(range(1000000), 10))\n",
    "long_list = list(random.sample(range(1000000), 10000))"
   ]
  },
  {
   "cell_type": "code",
   "execution_count": 273,
   "metadata": {},
   "outputs": [],
   "source": [
    "# Quicksort\n",
    "def Partition(arr):\n",
    "    new_arr = arr\n",
    "    pivot_index = len(arr)//2\n",
    "    \n",
    "    active_top = len(arr) - 1\n",
    "    active_bot = 0\n",
    "    \n",
    "    while active_top > active_bot:\n",
    "        if (new_arr[active_top] <= new_arr[pivot_index]) and (new_arr[active_bot] >= new_arr[pivot_index]):\n",
    "            \n",
    "            if pivot_index == active_top:\n",
    "                pivot_index = active_bot\n",
    "            elif pivot_index == active_bot:\n",
    "                pivot_index = active_top\n",
    "                \n",
    "            new_arr[active_top], new_arr[active_bot] = new_arr[active_bot], new_arr[active_top]\n",
    "            \n",
    "\n",
    "        if (new_arr[active_top] >= new_arr[pivot_index]) and (active_top > pivot_index):\n",
    "            active_top -= 1\n",
    "    \n",
    "        if (new_arr[active_bot] <= new_arr[pivot_index]) and (active_bot < pivot_index):\n",
    "            active_bot += 1\n",
    "            \n",
    "    if len(new_arr[:(pivot_index)]) > 1:\n",
    "        new_arr[:(pivot_index)] = Partition(new_arr[:(pivot_index)])\n",
    "        \n",
    "    if len(new_arr[(pivot_index + 1):]) > 1:\n",
    "        new_arr[(pivot_index + 1):] = Partition(new_arr[(pivot_index + 1):])\n",
    "        \n",
    "    return new_arr"
   ]
  },
  {
   "cell_type": "code",
   "execution_count": 288,
   "metadata": {},
   "outputs": [
    {
     "name": "stdout",
     "output_type": "stream",
     "text": [
      "My runtime:  0.4119870662689209\n",
      "Theirs:  0.012609004974365234\n",
      "Their sorting is 32.67 times faster.\n"
     ]
    }
   ],
   "source": [
    "# Set seed.\n",
    "random.seed(a=100)\n",
    "\n",
    "# Create our default list.\n",
    "short_list = list(random.sample(range(1000000), 10))\n",
    "long_list = list(random.sample(range(1000000), 50000))\n",
    "\n",
    "active = long_list\n",
    "start = time.time()\n",
    "me = Partition(active)\n",
    "end1 = time.time() - start\n",
    "print('My runtime: ', end1)\n",
    "start = time.time()\n",
    "them = sorted(active)\n",
    "end2 = time.time() - start\n",
    "print('Theirs: ', end2)\n",
    "print('Their sorting is', round(end1 / end2, 2), 'times faster.')"
   ]
  }
 ],
 "metadata": {
  "kernelspec": {
   "display_name": "Python 3",
   "language": "python",
   "name": "python3"
  },
  "language_info": {
   "codemirror_mode": {
    "name": "ipython",
    "version": 3
   },
   "file_extension": ".py",
   "mimetype": "text/x-python",
   "name": "python",
   "nbconvert_exporter": "python",
   "pygments_lexer": "ipython3",
   "version": "3.7.3"
  }
 },
 "nbformat": 4,
 "nbformat_minor": 2
}
