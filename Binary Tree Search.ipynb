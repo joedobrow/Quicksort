{
 "cells": [
  {
   "cell_type": "code",
   "execution_count": 10,
   "metadata": {},
   "outputs": [],
   "source": [
    "import random"
   ]
  },
  {
   "cell_type": "code",
   "execution_count": 11,
   "metadata": {},
   "outputs": [],
   "source": [
    "class Node:\n",
    "    def __init__(self, val):\n",
    "        self.left = None\n",
    "        self.right = None\n",
    "        self.val = val"
   ]
  },
  {
   "cell_type": "code",
   "execution_count": 12,
   "metadata": {},
   "outputs": [],
   "source": [
    "def propagate(root, iterations):\n",
    "    if iterations > 0:\n",
    "        root.left = Node(random.randint(1, 15))\n",
    "        root.right = Node(random.randint(1, 15))\n",
    "        propagate(root.left, iterations - 1)\n",
    "        propagate(root.right, iterations - 1)\n",
    "    return root"
   ]
  },
  {
   "cell_type": "code",
   "execution_count": 13,
   "metadata": {},
   "outputs": [],
   "source": [
    "### Breadth transversal\n",
    "\n",
    "# Generate a tree with 5 additional layers\n",
    "root = propagate(Node(random.randint(1, 15)), 3)"
   ]
  },
  {
   "cell_type": "code",
   "execution_count": 14,
   "metadata": {},
   "outputs": [],
   "source": [
    "def depth_first_transversal(root):\n",
    "    try:\n",
    "        print(root.val)\n",
    "        depth_first_transversal(root.left)\n",
    "        depth_first_transversal(root.right)\n",
    "    except:\n",
    "        return None"
   ]
  },
  {
   "cell_type": "code",
   "execution_count": 15,
   "metadata": {},
   "outputs": [],
   "source": [
    "def breadth_first_transversal(roots):\n",
    "    new_roots = []\n",
    "    try:\n",
    "        for r in roots:\n",
    "            print(r.val)\n",
    "            new_roots.append(r.left)\n",
    "            new_roots.append(r.right)\n",
    "            breadth_first_transversal(new_roots)\n",
    "    except:\n",
    "        return None"
   ]
  },
  {
   "cell_type": "code",
   "execution_count": 22,
   "metadata": {},
   "outputs": [
    {
     "data": {
      "text/plain": [
       "8"
      ]
     },
     "execution_count": 22,
     "metadata": {},
     "output_type": "execute_result"
    }
   ],
   "source": [
    "root.right.val"
   ]
  },
  {
   "cell_type": "code",
   "execution_count": 19,
   "metadata": {},
   "outputs": [
    {
     "name": "stdout",
     "output_type": "stream",
     "text": [
      "14\n",
      "15\n",
      "14\n",
      "6\n",
      "12\n",
      "13\n",
      "11\n",
      "6\n",
      "8\n",
      "3\n",
      "4\n",
      "9\n",
      "11\n",
      "8\n",
      "4\n"
     ]
    }
   ],
   "source": [
    "depth_first_transversal(root)"
   ]
  },
  {
   "cell_type": "code",
   "execution_count": 20,
   "metadata": {},
   "outputs": [
    {
     "name": "stdout",
     "output_type": "stream",
     "text": [
      "14\n",
      "15\n",
      "14\n",
      "6\n",
      "12\n",
      "13\n",
      "6\n",
      "12\n",
      "11\n",
      "6\n",
      "8\n",
      "14\n",
      "6\n",
      "12\n",
      "13\n",
      "6\n",
      "12\n",
      "11\n",
      "6\n",
      "3\n",
      "6\n",
      "12\n",
      "11\n",
      "6\n",
      "4\n",
      "9\n",
      "11\n",
      "6\n",
      "12\n",
      "11\n",
      "6\n",
      "4\n",
      "9\n",
      "8\n",
      "4\n"
     ]
    }
   ],
   "source": [
    "breadth_first_transversal([root])"
   ]
  },
  {
   "cell_type": "code",
   "execution_count": null,
   "metadata": {},
   "outputs": [],
   "source": []
  }
 ],
 "metadata": {
  "kernelspec": {
   "display_name": "Python 3",
   "language": "python",
   "name": "python3"
  },
  "language_info": {
   "codemirror_mode": {
    "name": "ipython",
    "version": 3
   },
   "file_extension": ".py",
   "mimetype": "text/x-python",
   "name": "python",
   "nbconvert_exporter": "python",
   "pygments_lexer": "ipython3",
   "version": "3.7.3"
  }
 },
 "nbformat": 4,
 "nbformat_minor": 2
}
